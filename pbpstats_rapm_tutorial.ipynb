{
 "cells": [
  {
   "cell_type": "markdown",
   "id": "0dad689c-9d8b-4535-bded-27f259e4426b",
   "metadata": {},
   "source": [
    "# Preparing RAPM Data with PBPStats\n",
    "\n",
    "Ford Higgins\n",
    "\n",
    "Calculating an all-in-one metric has felt like a rite of passage for NBA analytics for a long time, at least to me. But gathering the data, parsing the play by play, and then tuning an RAPM model requires knowledge of every step in a data pipeline. In addition to that, there are now several established metrics (DARKO, DRIP, EPM, LEBRON) that are more advanced than standard RAPM and seem as good as possible given the publicly available data. It's still a good exercise to understand how the RAPM sausage is made considering it's the basis for many of these metrics before they incorporate data from other sources such as box score and height / weight measurements.\n",
    "\n",
    "I'll cover how to get the data using Darryl Blackport's excellent `pbpstats` [package](https://github.com/dblackrun/pbpstats), transform the data so it fits the inputs for Ryan Davis's also excellent [RAPM tutorial](https://github.com/rd11490/NBA_Tutorials/tree/master/rapm), and then hand it off for the reader to finish. \n",
    "\n",
    "I'll note that Ryan also has a tutorial on [parsing play by play data](https://github.com/rd11490/NBA_Tutorials/tree/master/play_by_play_parser) that covers almost everything, but Darryl's package seems to cover even more and requires less code, though of course it means depending on the continued maintenance of another package. Hopefully this tutorial provides some insight into how the `pbpstats` package is structured and how it could be used for other analyses. The documentation for Darryl's package may be found [here](https://pbpstats.readthedocs.io/en/latest/index.html)."
   ]
  },
  {
   "cell_type": "code",
   "execution_count": 2,
   "id": "5f555507-34b9-4b4c-91df-b84da6236d5f",
   "metadata": {},
   "outputs": [],
   "source": [
    "# some general Python imports\n",
    "import numpy as np\n",
    "import pandas as pd\n",
    "import time\n",
    "from tqdm import tqdm\n",
    "from typing import List, Tuple\n",
    "\n",
    "# pbpstats imports\n",
    "import pbpstats\n",
    "from requests.exceptions import ReadTimeout\n",
    "from pbpstats.resources.enhanced_pbp.start_of_period import InvalidNumberOfStartersException\n",
    "from pbpstats.client import Client\n",
    "from pbpstats.resources.enhanced_pbp import enhanced_pbp_item\n",
    "from pbpstats.data_loader.stats_nba.possessions.loader import TeamHasBackToBackPossessionsException\n",
    "from pbpstats.resources.enhanced_pbp.rebound import EventOrderError"
   ]
  },
  {
   "cell_type": "markdown",
   "id": "430dd47d-4bbe-4dc5-8c35-9afa77803fa5",
   "metadata": {},
   "source": [
    "Set up for the `pbpstats` client that will serve as our base for pulling all of the data from NBA.com via the package. We are specifying the directory for the data to be saved in and the source and data provider for the data. The client will automatically save the files in the data directory if you have it set up, which allows future runs to use `file` as the `source` instead of the web, limiting the hits to the NBA's API. Darryl has directions [here](https://pbpstats.readthedocs.io/en/latest/quickstart.html#setup-data-directory-optional-but-recommended) on setting up the data directory, or you can look at how I have it set up in the repo.\n",
    "\n",
    "The data provider is another important choice with options of `data_nba`, `live`, and `stats_nba`. Darryl has a good description of the differences between the providers [here](https://pbpstats.readthedocs.io/en/latest/quickstart.html#data-nba-com-vs-stats-nba-com). I initially tried using `stats_nba` for this project, but ran into several exceptions that I couldn't figure out how to fix (though Darryl [implied on Twitter](https://twitter.com/bballport/status/1465458943178723332) that `stats_nba` should have less issues) and ultimately went with `data_nba`. Therefore you can remove all exceptions from the import list except (pun intended) `InvalidNumberOfStartersException` if you are using `data_nba` as the data provider.\n",
    "\n",
    "However, `data_nba` only goes back to the 2016-17 season and there will be issues with the `stats_nba` play by play. Darryl put together a list of common errors and how to fix them manually [in the package wiki](https://github.com/dblackrun/pbpstats/wiki/Fixing-issues-with-raw-play-by-play).\n",
    "\n",
    "This client is how the `pbpstats` package accesses different bits of data, so the initialization is important. We'll use it to pull season and game level objects."
   ]
  },
  {
   "cell_type": "code",
   "execution_count": 9,
   "id": "debc2195-fad9-436e-b2fe-90db079e27d7",
   "metadata": {},
   "outputs": [],
   "source": [
    "data_provider = \"data_nba\"\n",
    "\n",
    "settings = {\n",
    "    \"dir\": \"data/\",\n",
    "    \"Games\": {\"source\": \"web\", \"data_provider\": data_provider},\n",
    "    \"Possessions\": {\"source\": \"web\", \"data_provider\": data_provider},\n",
    "}\n",
    "client = Client(settings)"
   ]
  },
  {
   "cell_type": "markdown",
   "id": "b37b4ac1-8e04-4112-a929-d4dbdeec2d6d",
   "metadata": {},
   "source": [
    "This class defines the individual game's RAPM data, which is derived from the `pbpstats` `Game` object. It has one method for extracting the relevant possession level data from all of the game's possessions and another for transforming the data into an RAPM-structured dataframe.\n",
    "\n",
    "If you ever want to do possession level analysis using `pbpstats`, then you will need to loop through the possessions and their events as I do in the `gameDataRAPM.get_game_rapm_possessions()` method. You'll just need to style the section inside the second for loop to match your needs. Check out the documentation for [possession](https://pbpstats.readthedocs.io/en/latest/pbpstats.resources.possessions.html) and [enhanced PBP item objects](https://pbpstats.readthedocs.io/en/latest/pbpstats.resources.enhanced_pbp.html)."
   ]
  },
  {
   "cell_type": "code",
   "execution_count": 4,
   "id": "5e1ae7ba-35bb-43f5-96be-6bf789e59318",
   "metadata": {},
   "outputs": [],
   "source": [
    "class gameDataRAPM:\n",
    "    \"\"\"\n",
    "    Object for gathering and holding the RAPM-relevant data for each game.\n",
    "    \"\"\"\n",
    "    def __init__(self):\n",
    "        self.current_players = list()\n",
    "        self.pbp_scores = list()\n",
    "        self.pbp_offense_team = list()\n",
    "        self.rapm_poss = list()\n",
    "        self.rapm_df = pd.DataFrame()\n",
    "    \n",
    "    def get_game_rapm_possessions(self, game: 'pbpstats.objects.game.Game'):\n",
    "        \"\"\"\n",
    "        Pulls the data necessary for building the RAPM matrix from the game's possessions.\n",
    "        \n",
    "        Args:\n",
    "            game: A pbpstats Game object\n",
    "        \"\"\"\n",
    "        # each game object has all of the possessions, which are accessed via `items`\n",
    "        for possession in game.possessions.items:\n",
    "            # we want the event data for each possession\n",
    "            for possession_event in possession.events:\n",
    "                # we only want the event data if it is the event that ended the possession\n",
    "                if isinstance(possession_event, enhanced_pbp_item.EnhancedPbpItem) and possession_event.is_possession_ending_event:\n",
    "                    # add all relevant data to our dataclass\n",
    "                    self.current_players.append(possession_event.current_players)\n",
    "                    self.pbp_scores.append(possession_event.score)\n",
    "                    team_id = possession_event.get_offense_team_id()\n",
    "                    if team_id in [0, 1]:\n",
    "                        # happens with Excess Timeout Error\n",
    "                        team_id = possession.offense_team_id\n",
    "                    self.pbp_offense_team.append(team_id)\n",
    "\n",
    "    def transform_rapm_possessions(self, game_id: str):\n",
    "        \"\"\"\n",
    "        Uses the RAPM data to build the matrix that will be used in calculating RAPM.\n",
    "        \n",
    "        Args:\n",
    "            game_id: The ID assigned to the game by the NBA\n",
    "        \"\"\"\n",
    "        for idx, (lineups, offense_team, scores) in enumerate(zip(self.current_players, self.pbp_offense_team, self.pbp_scores)):\n",
    "            prev_score = self.pbp_scores[idx-1][offense_team] if idx != 0 else 0\n",
    "            pts_scored = scores[offense_team] - prev_score\n",
    "            poss = list()\n",
    "            defense_team = [team for team in lineups.keys() if team != offense_team].pop()\n",
    "            try:\n",
    "                # Occasionally the index is off. If error is thrown, need to manually\n",
    "                # find the solution and add to the relevant overrides file.\n",
    "                poss.extend(lineups[offense_team])\n",
    "            except KeyError:\n",
    "                print(game_id, idx, lineups, offense_team)\n",
    "            poss.extend(lineups[defense_team])\n",
    "            poss.append(1)\n",
    "            poss.append(pts_scored)\n",
    "            self.rapm_poss.append(poss)\n",
    "        \n",
    "        rapm_cols = [\n",
    "            \"offensePlayer1Id\", \"offensePlayer2Id\", \"offensePlayer3Id\", \"offensePlayer4Id\", \"offensePlayer5Id\",\n",
    "            \"defensePlayer1Id\", \"defensePlayer2Id\", \"defensePlayer3Id\", \"defensePlayer4Id\", \"defensePlayer5Id\",\n",
    "            \"possession\",\n",
    "            \"points\"\n",
    "        ]\n",
    "        self.rapm_df = pd.DataFrame(self.rapm_poss, columns=rapm_cols)"
   ]
  },
  {
   "cell_type": "markdown",
   "id": "a13b06e9-ca13-42ad-b4e1-c6c0809d38d2",
   "metadata": {},
   "source": [
    "These functions are the pipeline for pulling the data via `pbpstats` cleanly and without errors. The first function, `get_rapm_game()`, implements retry handling and backs off of requests by increasing the sleep time in between calls if a `ReadTimeout` is encountered. Other exceptions handled by `get_rapm_season_data()` include several that are thrown by `pbpstats` when an issue with the play by play is encountered. Although I didn't use formal logging to track these \"bad games\", they are saved in a `bad_games` dictionary with the game ID as the key and the error message as the value. As mentioned earlier, you can find ways to manually fix them in the [package wiki](https://github.com/dblackrun/pbpstats/wiki/Fixing-issues-with-raw-play-by-play)."
   ]
  },
  {
   "cell_type": "code",
   "execution_count": 7,
   "id": "e535d9f3-e196-4caa-ac20-4e60528a18b3",
   "metadata": {},
   "outputs": [],
   "source": [
    "def get_rapm_game(client: pbpstats.client.Client, game_id: str, sleep_time: float, num_retries: int) -> pbpstats.objects.game.Game:\n",
    "    \"\"\"Try getting the Game object, with some attempts at retry handling\"\"\"\n",
    "    time.sleep(sleep_time)\n",
    "    if num_retries >= 10:\n",
    "        return None\n",
    "    try:\n",
    "        return client.Game(game_id)\n",
    "    except ReadTimeout:\n",
    "        # retry pulling the game\n",
    "        return get_rapm_game(game_id, 3*sleep_time, num_retries + 1)\n",
    "\n",
    "def get_rapm_season_data(client: pbpstats.client.Client, season: str) -> Tuple[pd.DataFrame, List]:\n",
    "    \"\"\"\n",
    "    Using a pbpstats client object, pull game data for the specified season and\n",
    "    then get and transform possession level data so it can be fed into an RAPM\n",
    "    model.\n",
    "    \n",
    "    Args:\n",
    "      client: A pbpstats Client object\n",
    "      season: The season to pull data, formatted as '2020-21' for the 2021 season\n",
    "    \"\"\"\n",
    "    season = client.Season(\"nba\", season, \"Regular Season\")\n",
    "    rapm_games = list()\n",
    "    bad_games = dict()\n",
    "    \n",
    "    for game in tqdm(season.games.final_games):\n",
    "        sleep_time = 0.75\n",
    "        num_retries = 0\n",
    "        time.sleep(sleep_time)\n",
    "        game_id = game['game_id']\n",
    "        try:\n",
    "            game_data = client.Game(game_id)\n",
    "        except (TeamHasBackToBackPossessionsException, EventOrderError, InvalidNumberOfStartersException) as e:\n",
    "            # first two exceptions happen when using stats_nba as data provider\n",
    "            # third exception happens when pulling new data with data_nba as data provider\n",
    "            # and the event hasn't been added to the missing_starters.json file\n",
    "            bad_games[game_id] = str(e)\n",
    "        except ReadTimeout:\n",
    "            # Only seems to occur with stats_nba as data provider (and web as source)\n",
    "            print(\"Read timeout encountered, using retries and backoff.\")\n",
    "            game_data = get_rapm_game(client, game_id, sleep_time, num_retries)\n",
    "        if game_data:\n",
    "            rapm_game_data = gameDataRAPM()\n",
    "            rapm_game_data.get_game_rapm_possessions(game_data)\n",
    "            rapm_game_data.transform_rapm_possessions(game_id)\n",
    "            rapm_games.append(rapm_game_data.rapm_df)\n",
    "    \n",
    "    season_rapm_data = pd.concat(rapm_games)\n",
    "    return season_rapm_data, bad_games"
   ]
  },
  {
   "cell_type": "markdown",
   "id": "008d1af5-2f02-4837-bb7a-72d488cfb30a",
   "metadata": {},
   "source": [
    "That's all there is to it. Now just run the process from end to end with the function and you'll have RAPM data for the given year.\n",
    "\n",
    "**Note that it takes 25-30 minutes to run for each season when using `data_nba` and about 1.5 hrs when using `stats_nba`.**"
   ]
  },
  {
   "cell_type": "code",
   "execution_count": 11,
   "id": "9d73d82a-75ac-45ec-aa80-6f1b4b26651b",
   "metadata": {},
   "outputs": [
    {
     "name": "stderr",
     "output_type": "stream",
     "text": [
      "100%|█████████████████████████████████████████████████████████████████████████████████████████████████████████████████████████████████████████████████████████████████████████████████████████████████████| 1080/1080 [21:37<00:00,  1.20s/it]\n"
     ]
    }
   ],
   "source": [
    "rapm_season_data, bad_games = get_rapm_season_data(client, \"2020-21\")"
   ]
  },
  {
   "cell_type": "markdown",
   "id": "33afc565-083c-4bd6-9d5d-3b7f9590851d",
   "metadata": {},
   "source": [
    "Testing to make sure no errors were encountered while pulling the games."
   ]
  },
  {
   "cell_type": "code",
   "execution_count": 12,
   "id": "45ee76a1-1c78-4391-af04-cb50ea081596",
   "metadata": {},
   "outputs": [],
   "source": [
    "assert len(bad_games) == 0"
   ]
  },
  {
   "cell_type": "markdown",
   "id": "f41c4a9a-4b19-4e54-aae8-55587004ec1e",
   "metadata": {},
   "source": [
    "If you want to calculate RAPM data for multiple seasons, all you have to do is run the same process for each year, add each year's dataframe to a list, and use `pd.concat()` on the list of dataframes to turn it into one large dataframe. I would recommend adding a `season` column first so you can more easily split the data by season if necessary.\n",
    "\n",
    "Now off to Ryan's [RAPM tutorial](https://github.com/rd11490/NBA_Tutorials/tree/master/rapm)!"
   ]
  }
 ],
 "metadata": {
  "kernelspec": {
   "display_name": "Python 3 (ipykernel)",
   "language": "python",
   "name": "python3"
  },
  "language_info": {
   "codemirror_mode": {
    "name": "ipython",
    "version": 3
   },
   "file_extension": ".py",
   "mimetype": "text/x-python",
   "name": "python",
   "nbconvert_exporter": "python",
   "pygments_lexer": "ipython3",
   "version": "3.7.1"
  }
 },
 "nbformat": 4,
 "nbformat_minor": 5
}
